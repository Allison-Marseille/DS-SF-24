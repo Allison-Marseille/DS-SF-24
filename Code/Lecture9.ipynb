{
 "cells": [
  {
   "cell_type": "code",
   "execution_count": 1,
   "metadata": {
    "collapsed": true
   },
   "outputs": [],
   "source": [
    "import pandas as pd\n",
    "import numpy as np\n",
    "import matplotlib.pyplot as plt\n",
    "%matplotlib inline"
   ]
  },
  {
   "cell_type": "code",
   "execution_count": 2,
   "metadata": {
    "collapsed": false
   },
   "outputs": [
    {
     "name": "stdout",
     "output_type": "stream",
     "text": [
      "Number of Observations: 4601\n"
     ]
    }
   ],
   "source": [
    "url = \"https://raw.githubusercontent.com/ga-students/DS-SF-24/master/Data/spambase.csv\"\n",
    "SpamData = pd.read_csv(url)\n",
    "print(\"Number of Observations: %i\" %len(SpamData))\n"
   ]
  },
  {
   "cell_type": "code",
   "execution_count": 3,
   "metadata": {
    "collapsed": false
   },
   "outputs": [
    {
     "data": {
      "text/html": [
       "<div>\n",
       "<table border=\"1\" class=\"dataframe\">\n",
       "  <thead>\n",
       "    <tr style=\"text-align: right;\">\n",
       "      <th></th>\n",
       "      <th>word_freq_make</th>\n",
       "      <th>word_freq_address</th>\n",
       "      <th>word_freq_all</th>\n",
       "      <th>word_freq_3d</th>\n",
       "      <th>word_freq_our</th>\n",
       "      <th>word_freq_over</th>\n",
       "      <th>word_freq_remove</th>\n",
       "      <th>word_freq_internet</th>\n",
       "      <th>word_freq_order</th>\n",
       "      <th>word_freq_mail</th>\n",
       "      <th>...</th>\n",
       "      <th>char_freq_;</th>\n",
       "      <th>char_freq_(</th>\n",
       "      <th>char_freq_[</th>\n",
       "      <th>char_freq_!</th>\n",
       "      <th>char_freq_$</th>\n",
       "      <th>char_freq_#</th>\n",
       "      <th>capital_run_length_average</th>\n",
       "      <th>capital_run_length_longest</th>\n",
       "      <th>capital_run_length_total</th>\n",
       "      <th>is_spam</th>\n",
       "    </tr>\n",
       "  </thead>\n",
       "  <tbody>\n",
       "    <tr>\n",
       "      <th>0</th>\n",
       "      <td>0.00</td>\n",
       "      <td>0.64</td>\n",
       "      <td>0.64</td>\n",
       "      <td>0</td>\n",
       "      <td>0.32</td>\n",
       "      <td>0.00</td>\n",
       "      <td>0.00</td>\n",
       "      <td>0.00</td>\n",
       "      <td>0.00</td>\n",
       "      <td>0.00</td>\n",
       "      <td>...</td>\n",
       "      <td>0.00</td>\n",
       "      <td>0.000</td>\n",
       "      <td>0</td>\n",
       "      <td>0.778</td>\n",
       "      <td>0.000</td>\n",
       "      <td>0.000</td>\n",
       "      <td>3.756</td>\n",
       "      <td>61</td>\n",
       "      <td>278</td>\n",
       "      <td>1</td>\n",
       "    </tr>\n",
       "    <tr>\n",
       "      <th>1</th>\n",
       "      <td>0.21</td>\n",
       "      <td>0.28</td>\n",
       "      <td>0.50</td>\n",
       "      <td>0</td>\n",
       "      <td>0.14</td>\n",
       "      <td>0.28</td>\n",
       "      <td>0.21</td>\n",
       "      <td>0.07</td>\n",
       "      <td>0.00</td>\n",
       "      <td>0.94</td>\n",
       "      <td>...</td>\n",
       "      <td>0.00</td>\n",
       "      <td>0.132</td>\n",
       "      <td>0</td>\n",
       "      <td>0.372</td>\n",
       "      <td>0.180</td>\n",
       "      <td>0.048</td>\n",
       "      <td>5.114</td>\n",
       "      <td>101</td>\n",
       "      <td>1028</td>\n",
       "      <td>1</td>\n",
       "    </tr>\n",
       "    <tr>\n",
       "      <th>2</th>\n",
       "      <td>0.06</td>\n",
       "      <td>0.00</td>\n",
       "      <td>0.71</td>\n",
       "      <td>0</td>\n",
       "      <td>1.23</td>\n",
       "      <td>0.19</td>\n",
       "      <td>0.19</td>\n",
       "      <td>0.12</td>\n",
       "      <td>0.64</td>\n",
       "      <td>0.25</td>\n",
       "      <td>...</td>\n",
       "      <td>0.01</td>\n",
       "      <td>0.143</td>\n",
       "      <td>0</td>\n",
       "      <td>0.276</td>\n",
       "      <td>0.184</td>\n",
       "      <td>0.010</td>\n",
       "      <td>9.821</td>\n",
       "      <td>485</td>\n",
       "      <td>2259</td>\n",
       "      <td>1</td>\n",
       "    </tr>\n",
       "    <tr>\n",
       "      <th>3</th>\n",
       "      <td>0.00</td>\n",
       "      <td>0.00</td>\n",
       "      <td>0.00</td>\n",
       "      <td>0</td>\n",
       "      <td>0.63</td>\n",
       "      <td>0.00</td>\n",
       "      <td>0.31</td>\n",
       "      <td>0.63</td>\n",
       "      <td>0.31</td>\n",
       "      <td>0.63</td>\n",
       "      <td>...</td>\n",
       "      <td>0.00</td>\n",
       "      <td>0.137</td>\n",
       "      <td>0</td>\n",
       "      <td>0.137</td>\n",
       "      <td>0.000</td>\n",
       "      <td>0.000</td>\n",
       "      <td>3.537</td>\n",
       "      <td>40</td>\n",
       "      <td>191</td>\n",
       "      <td>1</td>\n",
       "    </tr>\n",
       "    <tr>\n",
       "      <th>4</th>\n",
       "      <td>0.00</td>\n",
       "      <td>0.00</td>\n",
       "      <td>0.00</td>\n",
       "      <td>0</td>\n",
       "      <td>0.63</td>\n",
       "      <td>0.00</td>\n",
       "      <td>0.31</td>\n",
       "      <td>0.63</td>\n",
       "      <td>0.31</td>\n",
       "      <td>0.63</td>\n",
       "      <td>...</td>\n",
       "      <td>0.00</td>\n",
       "      <td>0.135</td>\n",
       "      <td>0</td>\n",
       "      <td>0.135</td>\n",
       "      <td>0.000</td>\n",
       "      <td>0.000</td>\n",
       "      <td>3.537</td>\n",
       "      <td>40</td>\n",
       "      <td>191</td>\n",
       "      <td>1</td>\n",
       "    </tr>\n",
       "  </tbody>\n",
       "</table>\n",
       "<p>5 rows × 58 columns</p>\n",
       "</div>"
      ],
      "text/plain": [
       "   word_freq_make  word_freq_address  word_freq_all  word_freq_3d  \\\n",
       "0            0.00               0.64           0.64             0   \n",
       "1            0.21               0.28           0.50             0   \n",
       "2            0.06               0.00           0.71             0   \n",
       "3            0.00               0.00           0.00             0   \n",
       "4            0.00               0.00           0.00             0   \n",
       "\n",
       "   word_freq_our  word_freq_over  word_freq_remove  word_freq_internet  \\\n",
       "0           0.32            0.00              0.00                0.00   \n",
       "1           0.14            0.28              0.21                0.07   \n",
       "2           1.23            0.19              0.19                0.12   \n",
       "3           0.63            0.00              0.31                0.63   \n",
       "4           0.63            0.00              0.31                0.63   \n",
       "\n",
       "   word_freq_order  word_freq_mail   ...     char_freq_;  char_freq_(  \\\n",
       "0             0.00            0.00   ...            0.00        0.000   \n",
       "1             0.00            0.94   ...            0.00        0.132   \n",
       "2             0.64            0.25   ...            0.01        0.143   \n",
       "3             0.31            0.63   ...            0.00        0.137   \n",
       "4             0.31            0.63   ...            0.00        0.135   \n",
       "\n",
       "   char_freq_[  char_freq_!  char_freq_$  char_freq_#  \\\n",
       "0            0        0.778        0.000        0.000   \n",
       "1            0        0.372        0.180        0.048   \n",
       "2            0        0.276        0.184        0.010   \n",
       "3            0        0.137        0.000        0.000   \n",
       "4            0        0.135        0.000        0.000   \n",
       "\n",
       "   capital_run_length_average  capital_run_length_longest  \\\n",
       "0                       3.756                          61   \n",
       "1                       5.114                         101   \n",
       "2                       9.821                         485   \n",
       "3                       3.537                          40   \n",
       "4                       3.537                          40   \n",
       "\n",
       "   capital_run_length_total  is_spam  \n",
       "0                       278        1  \n",
       "1                      1028        1  \n",
       "2                      2259        1  \n",
       "3                       191        1  \n",
       "4                       191        1  \n",
       "\n",
       "[5 rows x 58 columns]"
      ]
     },
     "execution_count": 3,
     "metadata": {},
     "output_type": "execute_result"
    }
   ],
   "source": [
    "SpamData.head()"
   ]
  },
  {
   "cell_type": "markdown",
   "metadata": {},
   "source": [
    "For the dictionary of this dataset pleaserefer to https://archive.ics.uci.edu/ml/datasets/Spambase"
   ]
  },
  {
   "cell_type": "code",
   "execution_count": 4,
   "metadata": {
    "collapsed": false
   },
   "outputs": [],
   "source": [
    "ListOfAllVariables = SpamData.columns.values\n",
    "X = SpamData[ListOfAllVariables]\n",
    "del X['is_spam']\n",
    "y = SpamData['is_spam']\n"
   ]
  },
  {
   "cell_type": "code",
   "execution_count": 5,
   "metadata": {
    "collapsed": false
   },
   "outputs": [
    {
     "data": {
      "text/plain": [
       "LogisticRegression(C=1.0, class_weight=None, dual=False, fit_intercept=True,\n",
       "          intercept_scaling=1, max_iter=100000, multi_class='ovr',\n",
       "          n_jobs=1, penalty='l2', random_state=None, solver='newton-cg',\n",
       "          tol=0.0001, verbose=0, warm_start=False)"
      ]
     },
     "execution_count": 5,
     "metadata": {},
     "output_type": "execute_result"
    }
   ],
   "source": [
    "from sklearn.linear_model import LogisticRegression\n",
    "lm = LogisticRegression(solver = 'newton-cg', max_iter = 100000)\n",
    "lm.fit(X, y)"
   ]
  },
  {
   "cell_type": "code",
   "execution_count": 6,
   "metadata": {
    "collapsed": false
   },
   "outputs": [
    {
     "name": "stdout",
     "output_type": "stream",
     "text": [
      "0.917812605755\n",
      "0.0821873942447\n"
     ]
    }
   ],
   "source": [
    "from sklearn.cross_validation import cross_val_score\n",
    "print(cross_val_score(lm, X, y,cv=10).mean()) \n",
    "MisClassificationError = 1 - (cross_val_score(lm,X,y,cv=10).mean())\n",
    "print(MisClassificationError)  #our misclassification Error is not bad!"
   ]
  },
  {
   "cell_type": "code",
   "execution_count": 7,
   "metadata": {
    "collapsed": false
   },
   "outputs": [
    {
     "data": {
      "text/plain": [
       "count    4601.000000\n",
       "mean        0.394045\n",
       "std         0.488698\n",
       "min         0.000000\n",
       "25%         0.000000\n",
       "50%         0.000000\n",
       "75%         1.000000\n",
       "max         1.000000\n",
       "Name: is_spam, dtype: float64"
      ]
     },
     "execution_count": 7,
     "metadata": {},
     "output_type": "execute_result"
    }
   ],
   "source": [
    "SpamData['is_spam'].describe() \n",
    "#We love misclassification error even more! (39%) of e-mails were spam"
   ]
  },
  {
   "cell_type": "markdown",
   "metadata": {},
   "source": [
    "#### What is our current intercept?"
   ]
  },
  {
   "cell_type": "code",
   "execution_count": 8,
   "metadata": {
    "collapsed": false
   },
   "outputs": [
    {
     "data": {
      "text/plain": [
       "array([-1.47735014])"
      ]
     },
     "execution_count": 8,
     "metadata": {},
     "output_type": "execute_result"
    }
   ],
   "source": [
    "lm.intercept_"
   ]
  },
  {
   "cell_type": "markdown",
   "metadata": {},
   "source": [
    "### In our current setting 39% of our data was Spam. How would you adjust your model if you knew that in reality only 10% of e-mails are spam?"
   ]
  },
  {
   "cell_type": "code",
   "execution_count": 9,
   "metadata": {
    "collapsed": false
   },
   "outputs": [
    {
     "name": "stdout",
     "output_type": "stream",
     "text": [
      "We only need to adjust the intercept to -3.227262\n"
     ]
    }
   ],
   "source": [
    "Pi = .1\n",
    "Pi_tilda = .39\n",
    "Adjusted_Intercept = lm.intercept_ + np.log(Pi / (1 - Pi)) - np.log(Pi_tilda / (1 - Pi_tilda))\n",
    "\n",
    "print(\"We only need to adjust the intercept to %f\" %Adjusted_Intercept)"
   ]
  },
  {
   "cell_type": "markdown",
   "metadata": {},
   "source": [
    "## How much is our FPR, TPR, TNR, FNR, Error and Accuracy? "
   ]
  },
  {
   "cell_type": "code",
   "execution_count": 10,
   "metadata": {
    "collapsed": false
   },
   "outputs": [
    {
     "data": {
      "text/plain": [
       "array([[2665,  123],\n",
       "       [ 190, 1623]])"
      ]
     },
     "execution_count": 10,
     "metadata": {},
     "output_type": "execute_result"
    }
   ],
   "source": [
    "from sklearn.metrics import confusion_matrix\n",
    "y_hat = lm.predict(X)\n",
    "confusion_matrix(y, y_hat)"
   ]
  },
  {
   "cell_type": "code",
   "execution_count": 11,
   "metadata": {
    "collapsed": true
   },
   "outputs": [],
   "source": [
    "confmat = confusion_matrix(y, y_hat)\n",
    "TP = confmat[0,0] #True Positive\n",
    "FP = confmat[1,0] #False Positive\n",
    "FN = confmat[0,1] #False Negative\n",
    "TN = confmat[1,1] #True Negative"
   ]
  },
  {
   "cell_type": "code",
   "execution_count": 12,
   "metadata": {
    "collapsed": false
   },
   "outputs": [
    {
     "name": "stdout",
     "output_type": "stream",
     "text": [
      "False Positive Rate = 0.104799\n",
      "False Negative Rate = 0.044118\n",
      "True Positive Rate = 0.955882\n",
      "True Negative Rate = 0.895201\n",
      "Misclassification Error = 0.068029\n",
      "Accuracy = 0.931971\n"
     ]
    }
   ],
   "source": [
    "Err = float(FP + FN)/(FP + FN + TP + TN) #Prediction Error\n",
    "Acc = float(TP + TN)/(FP + FN + TP + TN) #Prediction Accuracy\n",
    "FPR = float(FP)/(FP + TN)  #False Positive Rate\n",
    "TNR = float(TN)/(FP + TN)  #True Negative Rate\n",
    "TPR = float(TP)/(FN + TP)  #True Positive Rate\n",
    "FNR = float(FN)/(FN + TP)  #False Negative Rate\n",
    "print(\"False Positive Rate = %f\" %FPR)\n",
    "print(\"False Negative Rate = %f\" %FNR)\n",
    "print(\"True Positive Rate = %f\" %TPR)\n",
    "print(\"True Negative Rate = %f\" %TNR)\n",
    "print(\"Misclassification Error = %f\" %Err)\n",
    "print(\"Accuracy = %f\" %Acc)"
   ]
  },
  {
   "cell_type": "markdown",
   "metadata": {},
   "source": [
    "#### As you can see it is not that hard to get confused by outputs of the confusion matrix! Let's write our own function!"
   ]
  },
  {
   "cell_type": "code",
   "execution_count": 13,
   "metadata": {
    "collapsed": true
   },
   "outputs": [],
   "source": [
    "def Not_Confusion_Matrix(confmat, ErrType):\n",
    "    TP = confmat[0,0] #True Positive\n",
    "    FP = confmat[1,0] #False Positive\n",
    "    FN = confmat[0,1] #False Negative\n",
    "    TN = confmat[1,1] #True Negative\n",
    "    if ErrType == 'Err':\n",
    "        return float(FP + FN)/(FP + FN + TP + TN)\n",
    "    elif ErrType == 'Acc':\n",
    "        return float(TP + TN)/(FP + FN + TP + TN)\n",
    "    elif ErrType == 'FPR':\n",
    "        return float(FP)/(FP + TN)\n",
    "    elif ErrType == 'TNR':\n",
    "        return float(TN)/(FP + TN)\n",
    "    elif ErrType == 'TPR':\n",
    "        return float(TP)/(FN + TP)\n",
    "    elif ErrType == 'FNR':\n",
    "        return float(FN)/(FN + TP)\n",
    "    else:\n",
    "        print(\"You must input 'Err', 'Acc', 'FPR', 'TNR', 'TPR', or 'FNR' as your input\")\n",
    "        return \"NaN\""
   ]
  },
  {
   "cell_type": "code",
   "execution_count": 14,
   "metadata": {
    "collapsed": false
   },
   "outputs": [
    {
     "name": "stdout",
     "output_type": "stream",
     "text": [
      "Err = 0.068029\n",
      "Acc = 0.931971\n",
      "FPR = 0.104799\n",
      "TNR = 0.895201\n",
      "TPR = 0.955882\n",
      "FNR = 0.044118\n"
     ]
    }
   ],
   "source": [
    "InputTypes = ['Err', 'Acc', 'FPR', 'TNR', 'TPR', 'FNR']\n",
    "for i in InputTypes:\n",
    "    print(\"%s = %f\" %(i , Not_Confusion_Matrix(confmat, i)))"
   ]
  },
  {
   "cell_type": "markdown",
   "metadata": {},
   "source": [
    "## Now let's explore threshhold"
   ]
  },
  {
   "cell_type": "code",
   "execution_count": 15,
   "metadata": {
    "collapsed": false
   },
   "outputs": [],
   "source": [
    "def PredictThreshhold(Predictprob, Threshhold): \n",
    "        y_predict = 0\n",
    "        if (Predictprob >= Threshhold):\n",
    "            y_predict = 1\n",
    "        return y_predict\n",
    "   "
   ]
  },
  {
   "cell_type": "code",
   "execution_count": 16,
   "metadata": {
    "collapsed": true
   },
   "outputs": [],
   "source": [
    "y_hat_probability = lm.predict_proba(X).T[1]\n",
    "ThreshholdRange =  np.linspace(0, 1, 100)"
   ]
  },
  {
   "cell_type": "code",
   "execution_count": 17,
   "metadata": {
    "collapsed": false
   },
   "outputs": [],
   "source": [
    "FPR_List = []\n",
    "FNR_List = []\n",
    "TPR_List = []\n",
    "Err_List = []\n",
    "\n",
    "for i in ThreshholdRange:\n",
    "    y_hat_predict_threshhold = []\n",
    "    for j in range(0,len(y_hat_probability)):\n",
    "            y_hat_predict_threshhold.append(PredictThreshhold(y_hat_probability[j],i))\n",
    "            \n",
    "    confmat = confusion_matrix(y, y_hat_predict_threshhold)\n",
    "    FPR_List.append(Not_Confusion_Matrix(confmat, 'FPR'))\n",
    "    FNR_List.append(Not_Confusion_Matrix(confmat, 'FNR'))\n",
    "    Err_List.append(Not_Confusion_Matrix(confmat, 'Err'))\n",
    "    TPR_List.append(Not_Confusion_Matrix(confmat, 'TPR'))\n"
   ]
  },
  {
   "cell_type": "code",
   "execution_count": 18,
   "metadata": {
    "collapsed": false
   },
   "outputs": [
    {
     "data": {
      "image/png": "[encoded data removed]",
      "text/plain": [
       "<matplotlib.figure.Figure at 0x1135e9710>"
      ]
     },
     "metadata": {},
     "output_type": "display_data"
    }
   ],
   "source": [
    "plt.figure(figsize=(15,10))\n",
    "\n",
    "plt.plot(ThreshholdRange, FPR_List, color = 'r', label = 'False Positive Rate')\n",
    "plt.plot(ThreshholdRange, FNR_List, color = 'b', label = 'False Negative Rate')\n",
    "plt.plot(ThreshholdRange, Err_List, color = 'g', label = 'Total Error')\n",
    "plt.xlabel(\"Threshhold\")\n",
    "plt.ylabel(\"% of Error\")\n",
    "plt.legend()\n",
    "plt.show()"
   ]
  },
  {
   "cell_type": "markdown",
   "metadata": {},
   "source": [
    "As you can see in the above graph. Although, total error is minimized at Threshhold = 0.5, it was pretty flat from Thresshold = 0.2 to Thresshold = 0.7. So, if our goal is to minimize False Positive rate while not damage total error that much, we could reduce Thresshold to 0.2. On the other hand, if our goal was minimizing false negatives while keeping total error low, we would set our threshhold close to 0.7 or even 0.75."
   ]
  },
  {
   "cell_type": "markdown",
   "metadata": {},
   "source": [
    "### To clarify, let's check confusion matrix for Threshhold = 0.2, 0.5, and 0.75"
   ]
  },
  {
   "cell_type": "code",
   "execution_count": 19,
   "metadata": {
    "collapsed": false
   },
   "outputs": [
    {
     "name": "stdout",
     "output_type": "stream",
     "text": [
      "[[2316  472]\n",
      " [  48 1765]]\n"
     ]
    }
   ],
   "source": [
    "# Set Thresshold = 0.2\n",
    "y_hat_predict_threshhold= []\n",
    "for i in range(0,len(y_hat_probability)):\n",
    "        y_hat_predict_threshhold.append(PredictThreshhold(y_hat_probability[i], .2))\n",
    "print(confusion_matrix(y, y_hat_predict_threshhold))"
   ]
  },
  {
   "cell_type": "code",
   "execution_count": 20,
   "metadata": {
    "collapsed": false
   },
   "outputs": [
    {
     "name": "stdout",
     "output_type": "stream",
     "text": [
      "[[2665  123]\n",
      " [ 190 1623]]\n"
     ]
    }
   ],
   "source": [
    "# Set Thresshold = 0.5\n",
    "\n",
    "y_hat_predict_threshhold= []\n",
    "for i in range(0,len(y_hat_probability)):\n",
    "        y_hat_predict_threshhold.append(PredictThreshhold(y_hat_probability[i], .5))\n",
    "print(confusion_matrix(y, y_hat_predict_threshhold))"
   ]
  },
  {
   "cell_type": "code",
   "execution_count": 21,
   "metadata": {
    "collapsed": false
   },
   "outputs": [
    {
     "name": "stdout",
     "output_type": "stream",
     "text": [
      "[[2725   63]\n",
      " [ 404 1409]]\n"
     ]
    }
   ],
   "source": [
    "# Set Thresshold = 0.75\n",
    "\n",
    "y_hat_predict_threshhold= []\n",
    "for i in range(0,len(y_hat_probability)):\n",
    "        y_hat_predict_threshhold.append(PredictThreshhold(y_hat_probability[i], .75))\n",
    "print(confusion_matrix(y, y_hat_predict_threshhold))"
   ]
  },
  {
   "cell_type": "markdown",
   "metadata": {},
   "source": [
    "# ROC Curves\n"
   ]
  },
  {
   "cell_type": "markdown",
   "metadata": {},
   "source": [
    "#### First Approach: Using the results of our own function. Remember ROC is FPR vs TPR"
   ]
  },
  {
   "cell_type": "code",
   "execution_count": 22,
   "metadata": {
    "collapsed": false
   },
   "outputs": [
    {
     "data": {
      "image/png": "[encoded data removed]",
      "text/plain": [
       "<matplotlib.figure.Figure at 0x110570f90>"
      ]
     },
     "metadata": {},
     "output_type": "display_data"
    }
   ],
   "source": [
    "plt.plot(FPR_List, TPR_List)\n",
    "plt.xlabel(\"False Positive Rate\")\n",
    "plt.ylabel(\"True Positive Rate\")\n",
    "plt.show()\n"
   ]
  },
  {
   "cell_type": "markdown",
   "metadata": {},
   "source": [
    "#### Second Approach: Using Python libraries \n",
    "Read more about ROC curves in puthon [here](http://scikit-learn.org/stable/modules/generated/sklearn.metrics.roc_curve.html)"
   ]
  },
  {
   "cell_type": "code",
   "execution_count": 23,
   "metadata": {
    "collapsed": false
   },
   "outputs": [
    {
     "name": "stdout",
     "output_type": "stream",
     "text": [
      "[ 0.59860371  0.97453442  0.99998117 ...,  0.03483669  0.09626789\n",
      "  0.04320134]\n",
      "AUC is 0.975719 \n"
     ]
    }
   ],
   "source": [
    "from sklearn.metrics import roc_curve, auc,roc_auc_score\n",
    "y_hat_probability = lm.predict_proba(X).T[1]  \n",
    "#T means Transpose\n",
    "#predict_proba(X).T[1] returns probability of belongingness to a class\n",
    "\n",
    "print(y_hat_probability)\n",
    "print(\"AUC is %f \" %roc_auc_score(y, y_hat_probability)) \n",
    "#This is excellent\n",
    "\n",
    "vals = roc_curve(y, y_hat_probability) \n",
    "#vals[0] is False Positive Rate\n",
    "#vals[1] is True Positive Rate"
   ]
  },
  {
   "cell_type": "markdown",
   "metadata": {},
   "source": [
    "# Now Let's plot ROC Curves"
   ]
  },
  {
   "cell_type": "code",
   "execution_count": 24,
   "metadata": {
    "collapsed": false
   },
   "outputs": [
    {
     "data": {
      "image/png": "[encoded data removed]",
      "text/plain": [
       "<matplotlib.figure.Figure at 0x113cb10d0>"
      ]
     },
     "metadata": {},
     "output_type": "display_data"
    }
   ],
   "source": [
    "plt.plot(vals[0], vals[1])\n",
    "plt.xlabel('False Positive Rate')\n",
    "plt.ylabel('True Positive Rate')\n",
    "plt.show()"
   ]
  },
  {
   "cell_type": "markdown",
   "metadata": {},
   "source": [
    "# Bonus section: Now let's find out the most important variables"
   ]
  },
  {
   "cell_type": "code",
   "execution_count": 25,
   "metadata": {
    "collapsed": false
   },
   "outputs": [],
   "source": [
    "# let's first standardize our data\n",
    "def Standardize(X):\n",
    "    X_Max = X.max()\n",
    "    X_Min = X.min()\n",
    "    X_Standardized = (X-X_Min)/(X_Max - X_Min)\n",
    "    return X_Standardized\n",
    "\n",
    "NameOfVariables = X.columns.values\n",
    "for i in NameOfVariables:\n",
    "    SpamData[i] = Standardize(SpamData[i])\n",
    "X = SpamData[ListOfAllVariables]\n",
    "del X['is_spam']  "
   ]
  },
  {
   "cell_type": "code",
   "execution_count": 26,
   "metadata": {
    "collapsed": false
   },
   "outputs": [
    {
     "data": {
      "image/png": "[encoded data removed]",
      "text/plain": [
       "<matplotlib.figure.Figure at 0x113cb1b90>"
      ]
     },
     "metadata": {},
     "output_type": "display_data"
    }
   ],
   "source": [
    "# Try testing and plot\n",
    "c_list = np.logspace(-10,10,21) \n",
    "c_index = np.linspace(-10,10,21)\n",
    "#C is just the inverse of Lambda - the smaller the C - the stronger the\n",
    "#regulatization. The smaller C's select less variables\n",
    "cv_scores = []\n",
    "for c_score in c_list:\n",
    "    lm = LogisticRegression(C = c_score, penalty = \"l1\")\n",
    "    cv_scores.append(cross_val_score(lm, X, y, cv=10, scoring = 'accuracy').mean())\n",
    "\n",
    "plt.plot(c_index, cv_scores)\n",
    "plt.xlabel(\"Log_C\")\n",
    "plt.ylabel(\"Cross-Validation Score\")\n",
    "plt.show()\n",
    "\n"
   ]
  },
  {
   "cell_type": "code",
   "execution_count": 27,
   "metadata": {
    "collapsed": false
   },
   "outputs": [
    {
     "data": {
      "image/png": "[encoded data removed]",
      "text/plain": [
       "<matplotlib.figure.Figure at 0x114373950>"
      ]
     },
     "metadata": {},
     "output_type": "display_data"
    }
   ],
   "source": [
    "# Try testing and plot\n",
    "c_list = np.logspace(-1,2,20) \n",
    "c_index = np.linspace(-1,2,20)\n",
    "#C is just the inverse of Lambda - the smaller the C - the stronger the\n",
    "#regulatization. The smaller C's choose less variables\n",
    "cv_scores = []\n",
    "for c_score in c_list:\n",
    "    lm = LogisticRegression(C = c_score, penalty = \"l1\")\n",
    "    cv_scores.append(cross_val_score(lm,X,y,cv=10).mean())\n",
    "\n",
    "plt.plot(c_index, cv_scores)\n",
    "plt.xlabel(\"Log_C\")\n",
    "plt.ylabel(\"Cross-Validation Score\")\n",
    "plt.show()\n"
   ]
  },
  {
   "cell_type": "code",
   "execution_count": 28,
   "metadata": {
    "collapsed": false
   },
   "outputs": [
    {
     "data": {
      "text/plain": [
       "array([[ -1.46971084e+00,  -2.04475821e+00,   7.43921937e-01,\n",
       "          1.13335639e+01,   5.54926852e+00,   4.46083870e+00,\n",
       "          1.69414021e+01,   6.22204363e+00,   3.43094586e+00,\n",
       "          2.09220816e+00,  -4.76584167e-01,  -1.40793925e+00,\n",
       "         -2.64469085e-01,   1.14877591e+00,   5.10915170e+00,\n",
       "          2.03291236e+01,   6.52730663e+00,   1.18138794e+00,\n",
       "          1.52424467e+00,   1.37656794e+01,   2.68218178e+00,\n",
       "          5.05406652e+00,   1.24533325e+01,   6.20760190e+00,\n",
       "         -3.81250968e+01,  -1.52759353e+01,  -1.41454545e+02,\n",
       "          3.30346702e+00,  -1.83956137e+01,  -1.81892541e+00,\n",
       "         -1.12033429e+00,   0.00000000e+00,  -1.38598161e+01,\n",
       "          0.00000000e+00,  -1.89570991e+01,   6.18634026e+00,\n",
       "         -2.72441860e-02,  -3.83250235e+00,  -7.64769063e+00,\n",
       "         -1.11666860e+00,  -4.01989881e+01,  -2.70145769e+01,\n",
       "         -3.34943515e+00,  -2.31505814e+01,  -1.52621434e+01,\n",
       "         -2.91796792e+01,  -4.10715788e+00,  -2.36516952e+01,\n",
       "         -5.33114246e+00,  -1.15919829e+00,  -2.04686660e+00,\n",
       "          1.21912645e+01,   3.05791166e+01,   1.76138227e+01,\n",
       "          0.00000000e+00,   4.90555695e+01,   1.12182064e+01]])"
      ]
     },
     "execution_count": 28,
     "metadata": {},
     "output_type": "execute_result"
    }
   ],
   "source": [
    "lm = LogisticRegression(C = 10**(1), penalty = \"l1\")\n",
    "lm.fit(X,y)\n",
    "lm.coef_\n"
   ]
  },
  {
   "cell_type": "code",
   "execution_count": 29,
   "metadata": {
    "collapsed": false
   },
   "outputs": [
    {
     "data": {
      "text/plain": [
       "[(-141.45454457662328, 'word_freq_george'),\n",
       " (-40.198988066069802, 'word_freq_cs'),\n",
       " (-38.12509684675458, 'word_freq_hp'),\n",
       " (-29.179679227116342, 'word_freq_edu'),\n",
       " (-27.014576884109683, 'word_freq_meeting'),\n",
       " (-23.65169515211895, 'word_freq_conference'),\n",
       " (-23.150581377093371, 'word_freq_project'),\n",
       " (-18.957099062838839, 'word_freq_85'),\n",
       " (-18.395613652862554, 'word_freq_lab'),\n",
       " (-15.275935303434309, 'word_freq_hpl'),\n",
       " (-15.262143373368088, 'word_freq_re'),\n",
       " (-13.8598161307994, 'word_freq_data'),\n",
       " (-7.6476906255279253, 'word_freq_pm'),\n",
       " (-5.3311424589082028, 'char_freq_;'),\n",
       " (-4.1071578769852888, 'word_freq_table'),\n",
       " (-3.8325023492660097, 'word_freq_parts'),\n",
       " (-3.3494351524389541, 'word_freq_original'),\n",
       " (-2.0468665971394957, 'char_freq_['),\n",
       " (-2.044758208355828, 'word_freq_address'),\n",
       " (-1.818925411200397, 'word_freq_labs'),\n",
       " (-1.4697108445907052, 'word_freq_make'),\n",
       " (-1.4079392490874989, 'word_freq_will'),\n",
       " (-1.1591982897064881, 'char_freq_('),\n",
       " (-1.1203342921366812, 'word_freq_telnet'),\n",
       " (-1.1166686040642735, 'word_freq_direct'),\n",
       " (-0.47658416698445061, 'word_freq_receive'),\n",
       " (-0.26446908511142997, 'word_freq_people'),\n",
       " (-0.027244186021668733, 'word_freq_1999'),\n",
       " (0.0, 'capital_run_length_average'),\n",
       " (0.0, 'word_freq_415'),\n",
       " (0.0, 'word_freq_857'),\n",
       " (0.74392193720557109, 'word_freq_all'),\n",
       " (1.1487759099376724, 'word_freq_report'),\n",
       " (1.1813879395273652, 'word_freq_email'),\n",
       " (1.5242446718754326, 'word_freq_you'),\n",
       " (2.0922081586071268, 'word_freq_mail'),\n",
       " (2.6821817838068176, 'word_freq_your'),\n",
       " (3.3034670248829805, 'word_freq_650'),\n",
       " (3.430945859586461, 'word_freq_order'),\n",
       " (4.4608387030853489, 'word_freq_over'),\n",
       " (5.0540665239738312, 'word_freq_font'),\n",
       " (5.1091517010243965, 'word_freq_addresses'),\n",
       " (5.5492685165461575, 'word_freq_our'),\n",
       " (6.1863402553192994, 'word_freq_technology'),\n",
       " (6.2076019025929732, 'word_freq_money'),\n",
       " (6.2220436338194265, 'word_freq_internet'),\n",
       " (6.5273066338874877, 'word_freq_business'),\n",
       " (11.218206380033267, 'capital_run_length_total'),\n",
       " (11.333563932652195, 'word_freq_3d'),\n",
       " (12.191264460900653, 'char_freq_!'),\n",
       " (12.453332522393911, 'word_freq_000'),\n",
       " (13.765679418328538, 'word_freq_credit'),\n",
       " (16.941402122660431, 'word_freq_remove'),\n",
       " (17.613822732806081, 'char_freq_#'),\n",
       " (20.329123587920002, 'word_freq_free'),\n",
       " (30.579116574462429, 'char_freq_$'),\n",
       " (49.05556947509892, 'capital_run_length_longest')]"
      ]
     },
     "execution_count": 29,
     "metadata": {},
     "output_type": "execute_result"
    }
   ],
   "source": [
    "Var_coef = zip(lm.coef_[0,:],NameOfVariables)\n",
    "sorted(Var_coef)"
   ]
  },
  {
   "cell_type": "markdown",
   "metadata": {},
   "source": [
    "It seems like char_freq_$ has the highest effect on an email be a spam, the next word that highly affects the probability of spam is remove, followed by  free, #, remove, credit, 000 etc.\n",
    "\n",
    "The most unlikely characters that are in spam emails are george, cs, hp, edu, meeting, etc.. \n"
   ]
  },
  {
   "cell_type": "markdown",
   "metadata": {},
   "source": [
    "#### Now let's look at ROC, AUC, confusion matrix of our optimal model"
   ]
  },
  {
   "cell_type": "code",
   "execution_count": 30,
   "metadata": {
    "collapsed": false
   },
   "outputs": [
    {
     "data": {
      "text/plain": [
       "array([[2668,  120],\n",
       "       [ 194, 1619]])"
      ]
     },
     "execution_count": 30,
     "metadata": {},
     "output_type": "execute_result"
    }
   ],
   "source": [
    "y_hat = lm.predict(X)\n",
    "confusion_matrix(y, y_hat)"
   ]
  },
  {
   "cell_type": "code",
   "execution_count": 31,
   "metadata": {
    "collapsed": false
   },
   "outputs": [
    {
     "name": "stdout",
     "output_type": "stream",
     "text": [
      "0.976195554029\n"
     ]
    },
    {
     "data": {
      "image/png": "[encoded data removed]",
      "text/plain": [
       "<matplotlib.figure.Figure at 0x113870910>"
      ]
     },
     "metadata": {},
     "output_type": "display_data"
    }
   ],
   "source": [
    "y_hat_probability = lm.predict_proba(X).T[1]  #T[1] returns probability of belonging to class\n",
    "print(roc_auc_score(y, y_hat_probability))\n",
    "vals = roc_curve(y, y_hat_probability)\n",
    "\n",
    "plt.plot(vals[0], vals[1])\n",
    "plt.xlabel('False Positive Rate')\n",
    "plt.ylabel('True Positive Rate')\n",
    "plt.show()"
   ]
  },
  {
   "cell_type": "code",
   "execution_count": null,
   "metadata": {
    "collapsed": true
   },
   "outputs": [],
   "source": []
  }
 ],
 "metadata": {
  "kernelspec": {
   "display_name": "Python 2",
   "language": "python",
   "name": "python2"
  },
  "language_info": {
   "codemirror_mode": {
    "name": "ipython",
    "version": 2
   },
   "file_extension": ".py",
   "mimetype": "text/x-python",
   "name": "python",
   "nbconvert_exporter": "python",
   "pygments_lexer": "ipython2",
   "version": "2.7.11"
  }
 },
 "nbformat": 4,
 "nbformat_minor": 0
}
