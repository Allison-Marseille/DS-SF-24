{
 "cells": [
  {
   "cell_type": "markdown",
   "metadata": {},
   "source": [
    "# This is both in class-practice Lecture 12 and HW#4 which is due at 6:30PM on July 28th 2016!"
   ]
  },
  {
   "cell_type": "code",
   "execution_count": 1,
   "metadata": {
    "collapsed": true
   },
   "outputs": [],
   "source": [
    "import pandas as pd\n",
    "import numpy as np\n",
    "import matplotlib.pyplot as plt\n",
    "%matplotlib inline"
   ]
  },
  {
   "cell_type": "code",
   "execution_count": 2,
   "metadata": {
    "collapsed": false
   },
   "outputs": [
    {
     "data": {
      "text/plain": [
       "4601"
      ]
     },
     "execution_count": 2,
     "metadata": {},
     "output_type": "execute_result"
    }
   ],
   "source": [
    "url = \"https://raw.githubusercontent.com/ga-students/DS-SF-24/master/Data/spambase.csv\"\n",
    "SpamData = pd.read_csv(url)\n",
    "SpamData.head()\n",
    "len(SpamData)"
   ]
  },
  {
   "cell_type": "code",
   "execution_count": 3,
   "metadata": {
    "collapsed": true
   },
   "outputs": [],
   "source": [
    "ListOfAllVariables = SpamData.columns.values\n",
    "X = SpamData[ListOfAllVariables]\n",
    "del X['is_spam']\n",
    "y = SpamData['is_spam']"
   ]
  },
  {
   "cell_type": "markdown",
   "metadata": {},
   "source": [
    "### Earlier in this course, we used logistic regression model and could achieve 8.2% misclassification error. Now, you know few top of the line algorithms like Random Forest and boosting. Go ahead and beat the Logistic regression algorithm. The champion, the person who beats CV-error of 8.2% and makes the least amount of error will receive a ONE DOLLAR bill award! \n",
    "### Just beat it, beat it, beat it, beat it\n",
    "### No one wants to be defeated\n",
    "### Showin' how funky strong is your fight \n",
    "### It doesn't matter who's wrong or right \n",
    "### just boost it, bag it, boost it, beat it"
   ]
  },
  {
   "cell_type": "markdown",
   "metadata": {},
   "source": [
    "If you are using **Boosting** then set **min_samples_leaf = 10** and **random_state = 24**\n",
    "Also, in order to be consitent use the following way to cross-validate your errors:\n",
    "\n",
    "kf = cross_validation.KFold(len(BostonData), n_folds = 10, shuffle = True) \n",
    "\n",
    "scores = []\n",
    "\n",
    "for train_index, test_index in kf:\n",
    "\n",
    "                                  ...\n",
    "                                  "
   ]
  },
  {
   "cell_type": "markdown",
   "metadata": {},
   "source": [
    "If you are working with **Random Forest** then set **random_state = 24** and **min_samples_leaf = 10**. "
   ]
  },
  {
   "cell_type": "code",
   "execution_count": 4,
   "metadata": {
    "collapsed": false
   },
   "outputs": [
    {
     "data": {
      "text/plain": [
       "RandomForestRegressor(bootstrap=True, criterion='mse', max_depth=None,\n",
       "           max_features=4, max_leaf_nodes=None, min_samples_leaf=10,\n",
       "           min_samples_split=2, min_weight_fraction_leaf=0.0,\n",
       "           n_estimators=1000, n_jobs=1, oob_score=True, random_state=24,\n",
       "           verbose=0, warm_start=False)"
      ]
     },
     "execution_count": 4,
     "metadata": {},
     "output_type": "execute_result"
    }
   ],
   "source": [
    "#Random forest regression problems\n",
    "from sklearn.ensemble import RandomForestRegressor\n",
    "\n",
    "RF = RandomForestRegressor(n_estimators = 1000,\n",
    "                          max_features = 4,\n",
    "                          min_samples_leaf = 10,\n",
    "                          oob_score = True,\n",
    "                          random_state = 24)\n",
    "\n",
    "RF.fit(X,y)"
   ]
  },
  {
   "cell_type": "code",
   "execution_count": 5,
   "metadata": {
    "collapsed": false
   },
   "outputs": [
    {
     "data": {
      "text/plain": [
       "[(2.6819533733776438e-06, 'word_freq_table'),\n",
       " (1.509442364167203e-05, 'word_freq_parts'),\n",
       " (0.00018864994107493051, 'word_freq_3d'),\n",
       " (0.00029201344596508483, 'word_freq_415'),\n",
       " (0.00033263285418325752, 'word_freq_857'),\n",
       " (0.00039059952314977317, 'word_freq_direct'),\n",
       " (0.00057789243712104074, 'word_freq_cs'),\n",
       " (0.00065844343395450719, 'word_freq_report'),\n",
       " (0.00075358246838375478, 'word_freq_conference'),\n",
       " (0.0007985030916030035, 'word_freq_original'),\n",
       " (0.0013629148958540038, 'word_freq_font'),\n",
       " (0.0013855001070128803, 'word_freq_project'),\n",
       " (0.0016968649098135569, 'word_freq_pm'),\n",
       " (0.0017178794622790428, 'word_freq_people'),\n",
       " (0.0019398344860728335, 'char_freq_['),\n",
       " (0.0020393449198249981, 'word_freq_technology'),\n",
       " (0.002146794574123239, 'word_freq_telnet'),\n",
       " (0.002180831965277759, 'word_freq_data'),\n",
       " (0.0027061080881435212, 'word_freq_make'),\n",
       " (0.0028215345840391644, 'word_freq_addresses'),\n",
       " (0.0029771262208342884, 'word_freq_lab'),\n",
       " (0.0030596699665234048, 'char_freq_;'),\n",
       " (0.0038838132035000817, 'char_freq_#'),\n",
       " (0.0038903055060684794, 'word_freq_meeting'),\n",
       " (0.0042414047415144191, 'word_freq_85'),\n",
       " (0.0044708217843610915, 'word_freq_650'),\n",
       " (0.0050767817783230187, 'word_freq_labs'),\n",
       " (0.0059990026244992421, 'char_freq_('),\n",
       " (0.0060446106088159384, 'word_freq_re'),\n",
       " (0.0061383058795928267, 'word_freq_order'),\n",
       " (0.0066638915774056128, 'word_freq_will'),\n",
       " (0.0066727824869313793, 'word_freq_address'),\n",
       " (0.0070211540106253434, 'word_freq_credit'),\n",
       " (0.0074407068738279111, 'word_freq_mail'),\n",
       " (0.0084591267157981542, 'word_freq_email'),\n",
       " (0.0097862213356059297, 'word_freq_over'),\n",
       " (0.012808663741834142, 'word_freq_receive'),\n",
       " (0.013297416331714156, 'word_freq_all'),\n",
       " (0.014755734126910992, 'word_freq_1999'),\n",
       " (0.014844870283145611, 'word_freq_edu'),\n",
       " (0.015851430770136708, 'word_freq_internet'),\n",
       " (0.016238142608484721, 'word_freq_business'),\n",
       " (0.022336735890172665, 'word_freq_george'),\n",
       " (0.023130587599464066, 'word_freq_hpl'),\n",
       " (0.025340724216394057, 'word_freq_you'),\n",
       " (0.031482076648531837, 'word_freq_000'),\n",
       " (0.034401053213272997, 'word_freq_our'),\n",
       " (0.038107975009981671, 'word_freq_money'),\n",
       " (0.040734090579658169, 'capital_run_length_total'),\n",
       " (0.048328923565756118, 'word_freq_hp'),\n",
       " (0.052142014292649488, 'capital_run_length_longest'),\n",
       " (0.065316134262007497, 'word_freq_your'),\n",
       " (0.067958623278826166, 'capital_run_length_average'),\n",
       " (0.072815366524117422, 'word_freq_free'),\n",
       " (0.073125421226170745, 'word_freq_remove'),\n",
       " (0.0911189568562462, 'char_freq_$'),\n",
       " (0.11003163209540605, 'char_freq_!')]"
      ]
     },
     "execution_count": 5,
     "metadata": {},
     "output_type": "execute_result"
    }
   ],
   "source": [
    "sorted(zip(RF.feature_importances_,X.columns.values))"
   ]
  },
  {
   "cell_type": "code",
   "execution_count": 6,
   "metadata": {
    "collapsed": false
   },
   "outputs": [
    {
     "data": {
      "text/plain": [
       "0.76592459360563969"
      ]
     },
     "execution_count": 6,
     "metadata": {},
     "output_type": "execute_result"
    }
   ],
   "source": [
    "RF.oob_score_"
   ]
  },
  {
   "cell_type": "code",
   "execution_count": 7,
   "metadata": {
    "collapsed": false
   },
   "outputs": [
    {
     "data": {
      "image/png": "[encoded data removed]",
      "text/plain": [
       "<matplotlib.figure.Figure at 0x9cda978>"
      ]
     },
     "metadata": {},
     "output_type": "display_data"
    }
   ],
   "source": [
    "#use OOB error to tune the model\n",
    "Features = range(1,14)\n",
    "oob_score_RF = []\n",
    "for i in Features:\n",
    "    RF = RandomForestRegressor(n_estimators = 2000,\n",
    "                              max_features = i,\n",
    "                              min_samples_leaf = 10,\n",
    "                              oob_score = True,\n",
    "                              random_state = 24,\n",
    "                              n_jobs = -1)\n",
    "    RF.fit(X,y)\n",
    "    oob_score_RF.append(RF.oob_score_)\n",
    "    \n",
    "plt.plot(Features, oob_score_RF)\n",
    "plt.xlabel(\"Number of Features\")\n",
    "plt.ylabel(\"Out of Bag Score\")\n",
    "plt.show()"
   ]
  },
  {
   "cell_type": "code",
   "execution_count": 8,
   "metadata": {
    "collapsed": false
   },
   "outputs": [
    {
     "data": {
      "image/png": "[encoded data removed]",
      "text/plain": [
       "<matplotlib.figure.Figure at 0xd7ab128>"
      ]
     },
     "metadata": {},
     "output_type": "display_data"
    }
   ],
   "source": [
    "Features = range(5,10)\n",
    "oob_score_RF = []\n",
    "for i in Features:\n",
    "    RF = RandomForestRegressor(n_estimators = 1000,\n",
    "                              max_features = i,\n",
    "                              min_samples_leaf = 10,\n",
    "                              oob_score = True,\n",
    "                              random_state = 24,\n",
    "                              n_jobs = -1)\n",
    "    RF.fit(X,y)\n",
    "    oob_score_RF.append(RF.oob_score_)\n",
    "    \n",
    "plt.plot(Features, oob_score_RF)\n",
    "plt.xlabel(\"Number of Features\")\n",
    "plt.ylabel(\"Out of Bag Score\")\n",
    "plt.show()"
   ]
  },
  {
   "cell_type": "code",
   "execution_count": 9,
   "metadata": {
    "collapsed": false
   },
   "outputs": [
    {
     "data": {
      "text/plain": [
       "RandomForestRegressor(bootstrap=True, criterion='mse', max_depth=None,\n",
       "           max_features=8, max_leaf_nodes=None, min_samples_leaf=10,\n",
       "           min_samples_split=2, min_weight_fraction_leaf=0.0,\n",
       "           n_estimators=5000, n_jobs=1, oob_score=True, random_state=24,\n",
       "           verbose=0, warm_start=False)"
      ]
     },
     "execution_count": 9,
     "metadata": {},
     "output_type": "execute_result"
    }
   ],
   "source": [
    "RF = RandomForestRegressor(n_estimators = 5000,\n",
    "                          max_features = 8,\n",
    "                          min_samples_leaf = 10,\n",
    "                          oob_score = True,\n",
    "                          random_state = 24)\n",
    "\n",
    "RF.fit(X,y)"
   ]
  },
  {
   "cell_type": "code",
   "execution_count": 10,
   "metadata": {
    "collapsed": false
   },
   "outputs": [
    {
     "data": {
      "text/plain": [
       "0.78760223454992639"
      ]
     },
     "execution_count": 10,
     "metadata": {},
     "output_type": "execute_result"
    }
   ],
   "source": [
    "RF.oob_score_"
   ]
  },
  {
   "cell_type": "code",
   "execution_count": 11,
   "metadata": {
    "collapsed": false,
    "scrolled": true
   },
   "outputs": [
    {
     "name": "stdout",
     "output_type": "stream",
     "text": [
      "0.145926399348\n"
     ]
    }
   ],
   "source": [
    "#time to do a bit of boosting... I hope... \n",
    "from sklearn.ensemble import GradientBoostingRegressor\n",
    "from sklearn.cross_validation import cross_val_score\n",
    "\n",
    "GBR_Tree = GradientBoostingRegressor(learning_rate = 0.001,\n",
    "                                    n_estimators = 1000,\n",
    "                                    max_depth = 2,\n",
    "                                    min_samples_leaf = 10,\n",
    "                                    random_state = 24)\n",
    "\n",
    "score = (-cross_val_score(GBR_Tree, X, y, cv = 10, scoring = 'mean_squared_error',\n",
    "                          n_jobs = -1)).mean()\n",
    "print score"
   ]
  },
  {
   "cell_type": "code",
   "execution_count": 12,
   "metadata": {
    "collapsed": false
   },
   "outputs": [
    {
     "data": {
      "image/png": "[encoded data removed]",
      "text/plain": [
       "<matplotlib.figure.Figure at 0xb990ef0>"
      ]
     },
     "metadata": {},
     "output_type": "display_data"
    }
   ],
   "source": [
    "Depth = range(1,10)\n",
    "Score = []\n",
    "for i in Depth:\n",
    "                GBR_Tree = GradientBoostingRegressor(learning_rate = 0.01, # This is lambda, a tuning parameter, usually between 0.01 and 0.1\n",
    "                                             n_estimators = 1000, #This is B, a tuning parameter, using large B can cause overfitting\n",
    "                                             max_depth = i, #This is d, another tuning parameter, usually max_depth < 5\n",
    "                                             min_samples_leaf = 10,\n",
    "                                             random_state = 1)\n",
    "        \n",
    "                Score.append(-cross_val_score(GBR_Tree, X, y, cv=10, scoring='mean_squared_error', n_jobs = -1).mean())\n",
    "\n",
    "plt.plot(Depth, Score)\n",
    "plt.xlabel(\"Depth\")\n",
    "plt.ylabel(\"CV - MSE\")\n",
    "plt.show()  "
   ]
  },
  {
   "cell_type": "code",
   "execution_count": 14,
   "metadata": {
    "collapsed": false,
    "scrolled": true
   },
   "outputs": [
    {
     "data": {
      "image/png": "[encoded data removed]",
      "text/plain": [
       "<matplotlib.figure.Figure at 0xb731128>"
      ]
     },
     "metadata": {},
     "output_type": "display_data"
    }
   ],
   "source": [
    "Score = []\n",
    "NumberOfTrees = [100,1000,5000,10000,20000]\n",
    "for i in NumberOfTrees:\n",
    "                GBR_Tree = GradientBoostingRegressor(learning_rate = 0.001, # This is lambda, a tuning parameter, usually between 0.01 and 0.1\n",
    "                                             n_estimators = i, #This is B, a tuning parameter, using large B can cause overfitting\n",
    "                                             max_depth = 4, #This is d, another tuning parameter, usually max_depth < 5\n",
    "                                             min_samples_leaf = 10)\n",
    "        \n",
    "                Score.append(-cross_val_score(GBR_Tree, X, y, cv = 10, scoring = 'mean_squared_error', n_jobs = -1).mean())\n",
    "\n",
    "plt.plot(NumberOfTrees, Score)\n",
    "plt.xlabel(\"Number of Trees\")\n",
    "plt.ylabel(\"CV - MSE\")\n",
    "plt.show() "
   ]
  },
  {
   "cell_type": "code",
   "execution_count": 16,
   "metadata": {
    "collapsed": false,
    "scrolled": true
   },
   "outputs": [
    {
     "name": "stdout",
     "output_type": "stream",
     "text": [
      "Optimal tree = 20000, which results in a minimum error of 0.066309\n"
     ]
    }
   ],
   "source": [
    "Index_Min = np.argmin(Score)\n",
    "Optimal_tree = NumberOfTrees[Index_Min]\n",
    "print \"Optimal tree = %i, which results in a minimum error of %f\" %(Optimal_tree, np.min(Score))"
   ]
  },
  {
   "cell_type": "markdown",
   "metadata": {},
   "source": [
    "Although the optimal tree number of 20,000 gives us the best minimum error, I'd recommend using 5,000 trees instead... the difference between the error at 5,000 and 20,000 doesn't appear to be all that significant, but the time/computing power between these two forests is huge. "
   ]
  },
  {
   "cell_type": "code",
   "execution_count": null,
   "metadata": {
    "collapsed": true
   },
   "outputs": [],
   "source": []
  }
 ],
 "metadata": {
  "kernelspec": {
   "display_name": "Python 2",
   "language": "python",
   "name": "python2"
  },
  "language_info": {
   "codemirror_mode": {
    "name": "ipython",
    "version": 2
   },
   "file_extension": ".py",
   "mimetype": "text/x-python",
   "name": "python",
   "nbconvert_exporter": "python",
   "pygments_lexer": "ipython2",
   "version": "2.7.11"
  }
 },
 "nbformat": 4,
 "nbformat_minor": 0
}
