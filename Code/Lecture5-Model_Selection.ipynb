{
 "cells": [
  {
   "cell_type": "code",
   "execution_count": 1,
   "metadata": {
    "collapsed": false
   },
   "outputs": [],
   "source": [
    "import pandas as pd\n",
    "import numpy as np\n",
    "import matplotlib.pyplot as plt\n",
    "%matplotlib inline\n",
    "from sklearn import linear_model\n",
    "import random\n",
    "from sklearn import feature_selection\n",
    "import statsmodels.formula.api as smf\n",
    "from sklearn import metrics\n",
    "from sklearn.linear_model import LinearRegression"
   ]
  },
  {
   "cell_type": "markdown",
   "metadata": {},
   "source": [
    "Let's assume here is your actual output\n",
    "y = [1,2,3,4,5]\n",
    "\n",
    "And your prediction is\n",
    "\n",
    "y_predict = [2,2,3,4,5]\n",
    "\n",
    "Your MSE is ((1-2)^2 + (2-2)^2 + ... + (5-5)^2)/5 = 1/5 = .2"
   ]
  },
  {
   "cell_type": "code",
   "execution_count": 2,
   "metadata": {
    "collapsed": false
   },
   "outputs": [
    {
     "data": {
      "text/plain": [
       "0.20000000000000001"
      ]
     },
     "execution_count": 2,
     "metadata": {},
     "output_type": "execute_result"
    }
   ],
   "source": [
    "#Let's find MSE using sklearn \n",
    "\n",
    "y = [1,2,3,4,5]\n",
    "y_predict = [2,2,3,4,5]\n",
    "metrics.mean_squared_error(y,y_predict)"
   ]
  },
  {
   "cell_type": "code",
   "execution_count": 3,
   "metadata": {
    "collapsed": false
   },
   "outputs": [
    {
     "data": {
      "image/png": "[encoded data removed]",
      "text/plain": [
       "<matplotlib.figure.Figure at 0x381e780>"
      ]
     },
     "metadata": {},
     "output_type": "display_data"
    }
   ],
   "source": [
    "#Let's generate 300 random numbers between -10 and 10\n",
    "x = np.zeros(300)\n",
    "for i in range(0,300):\n",
    "   x[i] = random.uniform(-10, 10)\n",
    "\n",
    "#Let's generate some error term with mean 0 and s.d. = 20\n",
    "error = np.random.normal(0,20,300)\n",
    "#Now let's generate y with a polynomial degree 2 relationship with x\n",
    "\n",
    "y = 3 + 1.5 * x + 4 * (x ** 2) + error\n",
    "\n",
    "df = pd.DataFrame({'X': x, 'y': y})\n",
    "\n",
    "plt.scatter(x, y)\n",
    "plt.xlabel(\"X Variable\")\n",
    "plt.ylabel(\"Y Variable\")\n",
    "plt.show()\n",
    "\n"
   ]
  },
  {
   "cell_type": "code",
   "execution_count": 4,
   "metadata": {
    "collapsed": false
   },
   "outputs": [
    {
     "data": {
      "text/html": [
       "<div>\n",
       "<table border=\"1\" class=\"dataframe\">\n",
       "  <thead>\n",
       "    <tr style=\"text-align: right;\">\n",
       "      <th></th>\n",
       "      <th>X</th>\n",
       "      <th>y</th>\n",
       "      <th>X_2</th>\n",
       "      <th>X_3</th>\n",
       "      <th>X_4</th>\n",
       "      <th>X_5</th>\n",
       "    </tr>\n",
       "  </thead>\n",
       "  <tbody>\n",
       "    <tr>\n",
       "      <th>0</th>\n",
       "      <td>2.401152</td>\n",
       "      <td>32.272777</td>\n",
       "      <td>5.765533</td>\n",
       "      <td>13.843924</td>\n",
       "      <td>33.241373</td>\n",
       "      <td>79.817605</td>\n",
       "    </tr>\n",
       "    <tr>\n",
       "      <th>1</th>\n",
       "      <td>-3.698520</td>\n",
       "      <td>31.058253</td>\n",
       "      <td>13.679052</td>\n",
       "      <td>-50.592249</td>\n",
       "      <td>187.116456</td>\n",
       "      <td>-692.053994</td>\n",
       "    </tr>\n",
       "  </tbody>\n",
       "</table>\n",
       "</div>"
      ],
      "text/plain": [
       "          X          y        X_2        X_3         X_4         X_5\n",
       "0  2.401152  32.272777   5.765533  13.843924   33.241373   79.817605\n",
       "1 -3.698520  31.058253  13.679052 -50.592249  187.116456 -692.053994"
      ]
     },
     "execution_count": 4,
     "metadata": {},
     "output_type": "execute_result"
    }
   ],
   "source": [
    "#Now let's add few non-linear terms to our data frame\n",
    "#this tests orders of polynomials here\n",
    "df['X_2'] = df.X ** 2\n",
    "df['X_3'] = df.X ** 3\n",
    "df['X_4'] = df.X ** 4\n",
    "df['X_5'] = df.X ** 5\n",
    "\n",
    "df.head(2)"
   ]
  },
  {
   "cell_type": "code",
   "execution_count": 5,
   "metadata": {
    "collapsed": false
   },
   "outputs": [],
   "source": [
    "X1 = df[['X']]\n",
    "X2 = df[['X', 'X_2']]\n",
    "X3 = df[['X', 'X_2', 'X_3']]\n",
    "X4 = df[['X', 'X_2', 'X_3', 'X_4']]\n",
    "X5 = df[['X', 'X_2', 'X_3', 'X_4', 'X_5']]\n",
    "y = df['y']"
   ]
  },
  {
   "cell_type": "code",
   "execution_count": 6,
   "metadata": {
    "collapsed": false
   },
   "outputs": [
    {
     "name": "stdout",
     "output_type": "stream",
     "text": [
      "Intercept    7.241628e-58\n",
      "i            2.226578e-01\n",
      "dtype: float64\n",
      "Intercept     2.344705e-01\n",
      "i[0]          2.767816e-12\n",
      "i[1]         9.529525e-234\n",
      "dtype: float64\n",
      "Intercept     2.487950e-01\n",
      "i[0]          3.714392e-02\n",
      "i[1]         7.362475e-232\n",
      "i[2]          4.681019e-01\n",
      "dtype: float64\n",
      "Intercept    6.507564e-01\n",
      "i[0]         3.436268e-02\n",
      "i[1]         5.851861e-89\n",
      "i[2]         5.210035e-01\n",
      "i[3]         4.261066e-01\n",
      "dtype: float64\n",
      "Intercept    8.566069e-01\n",
      "i[0]         2.152865e-01\n",
      "i[1]         2.415426e-90\n",
      "i[2]         2.646464e-03\n",
      "i[3]         1.735309e-01\n",
      "i[4]         3.313846e-03\n",
      "dtype: float64\n"
     ]
    }
   ],
   "source": [
    "# let's check p-values of the model\n",
    "\n",
    "lm = LinearRegression()\n",
    "\n",
    "for i in [X1, X2, X3, X4, X5]:\n",
    "    lm = smf.ols(formula='y ~ i', data=df).fit()\n",
    "    print(lm.pvalues)\n",
    "    \n",
    "    \n",
    "\n"
   ]
  },
  {
   "cell_type": "markdown",
   "metadata": {},
   "source": [
    "#### Based on P-values, it is clear that our models are only valid up to 2 degrees of polynomial. After that coefficients are not statistically significant. "
   ]
  },
  {
   "cell_type": "markdown",
   "metadata": {},
   "source": [
    "# Validation"
   ]
  },
  {
   "cell_type": "markdown",
   "metadata": {},
   "source": [
    "As much as sklearn performs weak for p-values, it is a great tool for splitting data into Training and Test set. "
   ]
  },
  {
   "cell_type": "code",
   "execution_count": 6,
   "metadata": {
    "collapsed": false
   },
   "outputs": [
    {
     "name": "stdout",
     "output_type": "stream",
     "text": [
      "('MSE_Train =', 15557.276555970997)\n",
      "('MSE_Test =', 14412.885173115397)\n"
     ]
    }
   ],
   "source": [
    "from sklearn.cross_validation import train_test_split\n",
    "\n",
    "X_train, X_test, y_train, y_test = train_test_split(X1, y, \n",
    "                                                    test_size=0.33)\n",
    "\n",
    "lm = LinearRegression()\n",
    "#We train based on Training Data BUT will Test on Test Set\n",
    "Model_train = lm.fit(X_train,y_train)\n",
    "y_Hat_train = lm.predict(X_train)\n",
    "y_Hat_test  = lm.predict(X_test)\n",
    "\n",
    "MSE_Train = metrics.mean_squared_error(y_Hat_train,y_train)\n",
    "MSE_Test  = metrics.mean_squared_error(y_Hat_test,y_test)\n",
    "\n",
    "print(\"MSE_Train =\",MSE_Train)\n",
    "print(\"MSE_Test =\", MSE_Test)\n"
   ]
  },
  {
   "cell_type": "markdown",
   "metadata": {},
   "source": [
    "Now, it's time to use Validation techniques to test which model is more significant. Remember we need to train based on training sets but test the performance on test set."
   ]
  },
  {
   "cell_type": "code",
   "execution_count": 7,
   "metadata": {
    "collapsed": false
   },
   "outputs": [
    {
     "data": {
      "image/png": "[encoded data removed]",
      "text/plain": [
       "<matplotlib.figure.Figure at 0x9e166a0>"
      ]
     },
     "metadata": {},
     "output_type": "display_data"
    }
   ],
   "source": [
    "\n",
    "MSE_test = []\n",
    "MSE_train = []\n",
    "\n",
    "for i in [X1,X2,X3,X4,X5]:\n",
    "    X_train, X_test, y_train, y_test = train_test_split(i, y, test_size=0.33)\n",
    "    lm.fit(X_train,y_train)\n",
    "    MSE_test.append(metrics.mean_squared_error(lm.predict(X_test),y_test))\n",
    "    MSE_train.append(metrics.mean_squared_error(lm.predict(X_train),y_train))\n",
    "\n",
    "\n",
    "index = np.array(range(5)) + 1\n",
    "plt.plot(index, MSE_test, color = 'b', label = \"Test MSE\")\n",
    "plt.plot(index, MSE_train, color = 'r', label = \"Train MSE\")\n",
    "plt.xlabel(\"Model Complexity\")\n",
    "plt.ylabel(\"MSE\")\n",
    "plt.legend()\n",
    "plt.show()\n",
    "\n",
    "\n"
   ]
  },
  {
   "cell_type": "markdown",
   "metadata": {},
   "source": [
    "Based on test-set MSE, we decide to choose Model 2 - polynomial degree 2. Remember ** THE SIMPLER THE BETTER **."
   ]
  },
  {
   "cell_type": "markdown",
   "metadata": {},
   "source": [
    "# Cross-Validation"
   ]
  },
  {
   "cell_type": "markdown",
   "metadata": {},
   "source": [
    "sklearn is great for Cross-Validation. 10 fold and 5 fold cross-validation are the most famous cross-validation techniques. Scoring system is really funny. It returns negative amount of MSE. It is highly confusing and definitely unintuitive. So, we just **multiply the value by negative** to fix the problem."
   ]
  },
  {
   "cell_type": "code",
   "execution_count": 8,
   "metadata": {
    "collapsed": false
   },
   "outputs": [
    {
     "name": "stdout",
     "output_type": "stream",
     "text": [
      "[15415.176076997246, 504.74591285179338, 505.23856379937689, 509.8986829630594, 512.34020750415982]\n"
     ]
    },
    {
     "data": {
      "image/png": "[encoded data removed]",
      "text/plain": [
       "<matplotlib.figure.Figure at 0x9cefef0>"
      ]
     },
     "metadata": {},
     "output_type": "display_data"
    }
   ],
   "source": [
    "from sklearn.cross_validation import cross_val_score\n",
    "\n",
    "CV_Scores = []\n",
    "\n",
    "for i in [X1,X2,X3,X4,X5]:\n",
    "    CV_Scores.append(- cross_val_score(lm, i, y, cv=10, \n",
    "                                       scoring = 'mean_squared_error').mean())\n",
    "\n",
    "print(CV_Scores)\n",
    "\n",
    "index = np.array(range(5)) + 1\n",
    "\n",
    "plt.plot(index, CV_Scores)\n",
    "plt.xlabel(\"Flexibility\")\n",
    "plt.ylabel(\"Cross-Validation Error\")\n",
    "plt.show()"
   ]
  },
  {
   "cell_type": "markdown",
   "metadata": {},
   "source": [
    "Again, 5-fold cross-validation suggests that polynomial degree 2 is our best model. "
   ]
  },
  {
   "cell_type": "markdown",
   "metadata": {},
   "source": [
    "# Lasso and Ridge Regression"
   ]
  },
  {
   "cell_type": "markdown",
   "metadata": {},
   "source": [
    "We are going to use Credit data. We will first add dummy variables and drop original qualitative values. "
   ]
  },
  {
   "cell_type": "code",
   "execution_count": 9,
   "metadata": {
    "collapsed": false
   },
   "outputs": [
    {
     "data": {
      "text/html": [
       "<div>\n",
       "<table border=\"1\" class=\"dataframe\">\n",
       "  <thead>\n",
       "    <tr style=\"text-align: right;\">\n",
       "      <th></th>\n",
       "      <th>Income</th>\n",
       "      <th>Limit</th>\n",
       "      <th>Rating</th>\n",
       "      <th>Cards</th>\n",
       "      <th>Age</th>\n",
       "      <th>Education</th>\n",
       "      <th>Balance</th>\n",
       "      <th>Race_Asian</th>\n",
       "      <th>Race_Caucasian</th>\n",
       "      <th>Gender_Female</th>\n",
       "      <th>Married_Yes</th>\n",
       "      <th>Student_Yes</th>\n",
       "    </tr>\n",
       "  </thead>\n",
       "  <tbody>\n",
       "    <tr>\n",
       "      <th>0</th>\n",
       "      <td>14.891</td>\n",
       "      <td>3606</td>\n",
       "      <td>283</td>\n",
       "      <td>2</td>\n",
       "      <td>34</td>\n",
       "      <td>11</td>\n",
       "      <td>333</td>\n",
       "      <td>0.0</td>\n",
       "      <td>1.0</td>\n",
       "      <td>0.0</td>\n",
       "      <td>1.0</td>\n",
       "      <td>0.0</td>\n",
       "    </tr>\n",
       "    <tr>\n",
       "      <th>1</th>\n",
       "      <td>106.025</td>\n",
       "      <td>6645</td>\n",
       "      <td>483</td>\n",
       "      <td>3</td>\n",
       "      <td>82</td>\n",
       "      <td>15</td>\n",
       "      <td>903</td>\n",
       "      <td>1.0</td>\n",
       "      <td>0.0</td>\n",
       "      <td>1.0</td>\n",
       "      <td>1.0</td>\n",
       "      <td>1.0</td>\n",
       "    </tr>\n",
       "  </tbody>\n",
       "</table>\n",
       "</div>"
      ],
      "text/plain": [
       "    Income  Limit  Rating  Cards  Age  Education  Balance  Race_Asian  \\\n",
       "0   14.891   3606     283      2   34         11      333         0.0   \n",
       "1  106.025   6645     483      3   82         15      903         1.0   \n",
       "\n",
       "   Race_Caucasian  Gender_Female  Married_Yes  Student_Yes  \n",
       "0             1.0            0.0          1.0          0.0  \n",
       "1             0.0            1.0          1.0          1.0  "
      ]
     },
     "execution_count": 9,
     "metadata": {},
     "output_type": "execute_result"
    }
   ],
   "source": [
    "url = \"https://raw.githubusercontent.com/ga-students/DS-SF-24/master/Data/Credit.csv\"\n",
    "\n",
    "CreditData = pd.read_csv(url)\n",
    "\n",
    "RaceDummy = pd.get_dummies(CreditData.Ethnicity, prefix = 'Race')\n",
    "del RaceDummy['Race_African American']\n",
    "\n",
    "GenderDummy = pd.get_dummies(CreditData.Gender, prefix = 'Gender')\n",
    "del GenderDummy['Gender_ Male']  \n",
    "\n",
    "MarriedDummy = pd.get_dummies(CreditData.Married, prefix = 'Married')\n",
    "del MarriedDummy['Married_No']\n",
    "\n",
    "StudentDummy = pd.get_dummies(CreditData.Student, prefix = 'Student')\n",
    "del StudentDummy['Student_No']\n",
    "\n",
    "CreditData = pd.concat([CreditData, RaceDummy,GenderDummy,MarriedDummy, StudentDummy], \n",
    "                        axis=1)\n",
    "\n",
    "\n",
    "\n",
    "del CreditData['Unnamed: 0']\n",
    "del CreditData['Gender']\n",
    "del CreditData['Student']\n",
    "del CreditData['Married']\n",
    "del CreditData['Ethnicity']\n",
    "\n",
    "CreditData.head(2)"
   ]
  },
  {
   "cell_type": "markdown",
   "metadata": {},
   "source": [
    "### Scaling/Lasso/Ridge"
   ]
  },
  {
   "cell_type": "code",
   "execution_count": 10,
   "metadata": {
    "collapsed": true
   },
   "outputs": [],
   "source": [
    "from sklearn import preprocessing\n"
   ]
  },
  {
   "cell_type": "code",
   "execution_count": 11,
   "metadata": {
    "collapsed": true
   },
   "outputs": [],
   "source": [
    "CreditDataNew = preprocessing.scale(CreditData) #CreditDataNew is now a numpy array\n",
    "CreditDataNew = pd.DataFrame(CreditDataNew)   #We changed CreditDataNew to a dataframe\n",
    "CreditDataNew.columns = CreditData.columns.values  #We renamed columns of CreditDataNew"
   ]
  },
  {
   "cell_type": "code",
   "execution_count": 12,
   "metadata": {
    "collapsed": true
   },
   "outputs": [],
   "source": [
    "CreditData = CreditDataNew"
   ]
  },
  {
   "cell_type": "markdown",
   "metadata": {},
   "source": [
    "Now we are going to divide our dataset - to output y and all inputs X."
   ]
  },
  {
   "cell_type": "code",
   "execution_count": 13,
   "metadata": {
    "collapsed": false
   },
   "outputs": [
    {
     "name": "stdout",
     "output_type": "stream",
     "text": [
      "['Income' 'Limit' 'Rating' 'Cards' 'Age' 'Education' 'Balance' 'Race_Asian'\n",
      " 'Race_Caucasian' 'Gender_Female' 'Married_Yes' 'Student_Yes']\n"
     ]
    }
   ],
   "source": [
    "\n",
    "listOfAllVariables = CreditData.columns.values\n",
    "print(listOfAllVariables)\n",
    "X = CreditData[listOfAllVariables]\n",
    "del X['Balance']\n",
    "y = CreditData['Balance']\n"
   ]
  },
  {
   "cell_type": "code",
   "execution_count": 14,
   "metadata": {
    "collapsed": false
   },
   "outputs": [
    {
     "data": {
      "text/plain": [
       "array([ 0.,  0.,  0.,  0.,  0., -0., -0., -0.,  0., -0.,  0.])"
      ]
     },
     "execution_count": 14,
     "metadata": {},
     "output_type": "execute_result"
    }
   ],
   "source": [
    "#this was a lasso regression with default values\n",
    "lm_lasso = linear_model.Lasso().fit(X,y)\n",
    "lm_lasso.coef_"
   ]
  },
  {
   "cell_type": "markdown",
   "metadata": {},
   "source": [
    "We need to use CV to decide on the optimal level of Alpha - the parameter of Lasso Regressions. "
   ]
  },
  {
   "cell_type": "code",
   "execution_count": 15,
   "metadata": {
    "collapsed": false
   },
   "outputs": [
    {
     "name": "stdout",
     "output_type": "stream",
     "text": [
      "[(1e-10, 0.048008703837958216), (1.0000000000000001e-09, 0.048008703817386991), (1e-08, 0.048008703611676931), (9.9999999999999995e-08, 0.048008701554774172), (9.9999999999999995e-07, 0.048008681005509), (1.0000000000000001e-05, 0.048008901104101491), (0.0001, 0.04801856247262315), (0.001, 0.048019094254058044), (0.01, 0.048915068545679639), (0.10000000000000001, 0.16329833425543755), (1.0, 1.0057111838459489), (10.0, 1.0057111838459489), (100.0, 1.0057111838459489), (1000.0, 1.0057111838459489), (10000.0, 1.0057111838459489), (100000.0, 1.0057111838459489), (1000000.0, 1.0057111838459489), (10000000.0, 1.0057111838459489), (100000000.0, 1.0057111838459489), (1000000000.0, 1.0057111838459489), (10000000000.0, 1.0057111838459489)]\n"
     ]
    },
    {
     "name": "stderr",
     "output_type": "stream",
     "text": [
      "C:\\Users\\Allison\\Anaconda2\\lib\\site-packages\\sklearn\\linear_model\\coordinate_descent.py:466: ConvergenceWarning: Objective did not converge. You might want to increase the number of iterations\n",
      "  ConvergenceWarning)\n"
     ]
    },
    {
     "data": {
      "image/png": "[encoded data removed]",
      "text/plain": [
       "<matplotlib.figure.Figure at 0xa1681d0>"
      ]
     },
     "metadata": {},
     "output_type": "display_data"
    }
   ],
   "source": [
    "MSE_Lasso_CV = []\n",
    "alphas = np.logspace(-10, 10, 21) #created 21 separate observations ranging from 10^-10 to 10^10\n",
    "alphas_index = np.linspace(-10, 10, 21) #to graph on a logorithmic scale\n",
    "\n",
    "CV_Scores = []\n",
    "\n",
    "for a in alphas:\n",
    "    lm = linear_model.Lasso(alpha=a)\n",
    "    CV_Scores.append(- cross_val_score(lm, X, y, cv=10, \n",
    "                     scoring = 'mean_squared_error').mean())\n",
    "\n",
    "\n",
    "\n",
    "print(zip(alphas, CV_Scores))\n",
    "\n",
    "plt.plot(alphas_index, CV_Scores)\n",
    "plt.xlabel(\"Log(Alpha)\")\n",
    "plt.ylabel(\"CV_Error\")\n",
    "plt.title(\"Lasso Regression\")\n",
    "plt.show()\n"
   ]
  },
  {
   "cell_type": "code",
   "execution_count": 16,
   "metadata": {
    "collapsed": false
   },
   "outputs": [
    {
     "name": "stdout",
     "output_type": "stream",
     "text": [
      "[(-0.55167106880804107, 'Income'), (0.87350643006044337, 'Limit'), (0.41941036771521423, 'Rating'), (0.042801835650123091, 'Cards'), (-0.016712885686218103, 'Age'), (-0.0, 'Education'), (0.0, 'Race_Asian'), (0.0, 'Race_Caucasian'), (-1.7624789549581798e-05, 'Gender_Female'), (-0.0, 'Married_Yes'), (0.26657472496548751, 'Student_Yes')]\n"
     ]
    }
   ],
   "source": [
    "#MSE is flat up to log_alpha = -2. Log_alpha results in alpha = 0.01 (due to its logarithmic scale)\n",
    "lm = linear_model.Lasso(alpha=0.01)\n",
    "lm.fit(X, y)\n",
    "print(zip(lm.coef_,X.columns))\n"
   ]
  },
  {
   "cell_type": "markdown",
   "metadata": {},
   "source": [
    "#### Based on Lasso regression outputs, we decide to eliminate Gender, Marital Status, Education, and Race from our model. The coefficients that made it to our final models were Income, Limit, Rating (we shall only choose 1 of these three variables due to colinearity), Number of Cards, Age, and Studentship. Based on our previous In-Class-Practice, we were expecting to have Income and Studentship in our model. Now, since we are only left with 4 variables, we can run statistical tests and choose the most significant model. \n"
   ]
  },
  {
   "cell_type": "markdown",
   "metadata": {},
   "source": [
    "#### Ridge Regression"
   ]
  },
  {
   "cell_type": "code",
   "execution_count": 17,
   "metadata": {
    "collapsed": false
   },
   "outputs": [
    {
     "name": "stdout",
     "output_type": "stream",
     "text": [
      "[(1e-10, 0.048013669804683738), (1.0000000000000001e-09, 0.04801366980431223), (1e-08, 0.048013669800598568), (9.9999999999999995e-08, 0.048013669763461053), (9.9999999999999995e-07, 0.048013669392087274), (1.0000000000000001e-05, 0.048013665678460014), (0.0001, 0.048013628553232615), (0.001, 0.04801325840332081), (0.01, 0.04800966502900951), (0.10000000000000001, 0.047982752155581461), (1.0, 0.047999169000865607), (10.0, 0.050970033191201747), (100.0, 0.13324144632655097), (1000.0, 0.48300054874080106), (10000.0, 0.89489785160486102), (100000.0, 0.99327582402886727), (1000000.0, 1.0044523724838741), (10000000.0, 1.0055851480077196), (100000000.0, 1.0056985787131336), (1000000000.0, 1.0057099233171753), (10000000000.0, 1.0057110577929165)]\n"
     ]
    },
    {
     "data": {
      "image/png": "[encoded data removed]",
      "text/plain": [
       "<matplotlib.figure.Figure at 0x3809400>"
      ]
     },
     "metadata": {},
     "output_type": "display_data"
    }
   ],
   "source": [
    "MSE_Lasso_CV = []\n",
    "alphas = np.logspace(-10, 10, 21)\n",
    "alphas_index = np.linspace(-10, 10, 21)\n",
    "\n",
    "CV_Scores = []\n",
    "\n",
    "for a in alphas:\n",
    "    lm = linear_model.Ridge(alpha=a)\n",
    "    CV_Scores.append(- cross_val_score(lm, X, y, cv=10, \n",
    "                     scoring = 'mean_squared_error').mean())\n",
    "\n",
    "\n",
    "\n",
    "print(zip(alphas, CV_Scores))\n",
    "\n",
    "plt.plot(alphas_index, CV_Scores)\n",
    "plt.xlabel(\"Log(Alpha)\")\n",
    "plt.ylabel(\"CV_Error\")\n",
    "plt.title(\"Ridge Regression\")\n",
    "plt.show()"
   ]
  },
  {
   "cell_type": "code",
   "execution_count": 18,
   "metadata": {
    "collapsed": false
   },
   "outputs": [
    {
     "name": "stdout",
     "output_type": "stream",
     "text": [
      "[(-0.52729328617442173, 'Income'), (0.65765838088917106, 'Limit'), (0.61205367867483773, 'Rating'), (0.044016527367623924, 'Cards'), (-0.028256264468126055, 'Age'), (-0.0050881972629339602, 'Education'), (0.015581152563195122, 'Race_Asian'), (0.010824713491351588, 'Race_Caucasian'), (-0.0093704865410496156, 'Gender_Female'), (-0.011724836765270282, 'Married_Yes'), (0.26784757474588411, 'Student_Yes')]\n"
     ]
    }
   ],
   "source": [
    "#MSE is flat up to log_Alpha = 1. log_alpha = 1 results in alpha = 10 (due to its logarithmic scale)\n",
    "lm = linear_model.Ridge(alpha=10)\n",
    "lm.fit(X, y)\n",
    "print zip(lm.coef_,X.columns)"
   ]
  },
  {
   "cell_type": "markdown",
   "metadata": {},
   "source": [
    "#### Based on Ridge regression model, we are not comfortable to eliminate variables. Generally, Lasso is much better than Ridge Regression.  "
   ]
  },
  {
   "cell_type": "code",
   "execution_count": null,
   "metadata": {
    "collapsed": true
   },
   "outputs": [],
   "source": []
  }
 ],
 "metadata": {
  "kernelspec": {
   "display_name": "Python 2",
   "language": "python",
   "name": "python2"
  },
  "language_info": {
   "codemirror_mode": {
    "name": "ipython",
    "version": 2
   },
   "file_extension": ".py",
   "mimetype": "text/x-python",
   "name": "python",
   "nbconvert_exporter": "python",
   "pygments_lexer": "ipython2",
   "version": "2.7.11"
  }
 },
 "nbformat": 4,
 "nbformat_minor": 0
}
