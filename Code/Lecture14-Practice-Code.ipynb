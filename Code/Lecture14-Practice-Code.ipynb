{
 "cells": [
  {
   "cell_type": "markdown",
   "metadata": {},
   "source": [
    "# It's time to work with the Iris Data"
   ]
  },
  {
   "cell_type": "code",
   "execution_count": 4,
   "metadata": {
    "collapsed": false
   },
   "outputs": [
    {
     "name": "stdout",
     "output_type": "stream",
     "text": [
      "Iris Plants Database\n",
      "\n",
      "Notes\n",
      "-----\n",
      "Data Set Characteristics:\n",
      "    :Number of Instances: 150 (50 in each of three classes)\n",
      "    :Number of Attributes: 4 numeric, predictive attributes and the class\n",
      "    :Attribute Information:\n",
      "        - sepal length in cm\n",
      "        - sepal width in cm\n",
      "        - petal length in cm\n",
      "        - petal width in cm\n",
      "        - class:\n",
      "                - Iris-Setosa\n",
      "                - Iris-Versicolour\n",
      "                - Iris-Virginica\n",
      "    :Summary Statistics:\n",
      "\n",
      "    ============== ==== ==== ======= ===== ====================\n",
      "                    Min  Max   Mean    SD   Class Correlation\n",
      "    ============== ==== ==== ======= ===== ====================\n",
      "    sepal length:   4.3  7.9   5.84   0.83    0.7826\n",
      "    sepal width:    2.0  4.4   3.05   0.43   -0.4194\n",
      "    petal length:   1.0  6.9   3.76   1.76    0.9490  (high!)\n",
      "    petal width:    0.1  2.5   1.20  0.76     0.9565  (high!)\n",
      "    ============== ==== ==== ======= ===== ====================\n",
      "\n",
      "    :Missing Attribute Values: None\n",
      "    :Class Distribution: 33.3% for each of 3 classes.\n",
      "    :Creator: R.A. Fisher\n",
      "    :Donor: Michael Marshall (MARSHALL%PLU@io.arc.nasa.gov)\n",
      "    :Date: July, 1988\n",
      "\n",
      "This is a copy of UCI ML iris datasets.\n",
      "http://archive.ics.uci.edu/ml/datasets/Iris\n",
      "\n",
      "The famous Iris database, first used by Sir R.A Fisher\n",
      "\n",
      "This is perhaps the best known database to be found in the\n",
      "pattern recognition literature.  Fisher's paper is a classic in the field and\n",
      "is referenced frequently to this day.  (See Duda & Hart, for example.)  The\n",
      "data set contains 3 classes of 50 instances each, where each class refers to a\n",
      "type of iris plant.  One class is linearly separable from the other 2; the\n",
      "latter are NOT linearly separable from each other.\n",
      "\n",
      "References\n",
      "----------\n",
      "   - Fisher,R.A. \"The use of multiple measurements in taxonomic problems\"\n",
      "     Annual Eugenics, 7, Part II, 179-188 (1936); also in \"Contributions to\n",
      "     Mathematical Statistics\" (John Wiley, NY, 1950).\n",
      "   - Duda,R.O., & Hart,P.E. (1973) Pattern Classification and Scene Analysis.\n",
      "     (Q327.D83) John Wiley & Sons.  ISBN 0-471-22361-1.  See page 218.\n",
      "   - Dasarathy, B.V. (1980) \"Nosing Around the Neighborhood: A New System\n",
      "     Structure and Classification Rule for Recognition in Partially Exposed\n",
      "     Environments\".  IEEE Transactions on Pattern Analysis and Machine\n",
      "     Intelligence, Vol. PAMI-2, No. 1, 67-71.\n",
      "   - Gates, G.W. (1972) \"The Reduced Nearest Neighbor Rule\".  IEEE Transactions\n",
      "     on Information Theory, May 1972, 431-433.\n",
      "   - See also: 1988 MLC Proceedings, 54-64.  Cheeseman et al\"s AUTOCLASS II\n",
      "     conceptual clustering system finds 3 classes in the data.\n",
      "   - Many, many more ...\n",
      "\n"
     ]
    }
   ],
   "source": [
    "from sklearn.datasets import load_iris\n",
    "import numpy as np\n",
    "iris = load_iris()\n",
<<<<<<< HEAD
    "print iris.DESCR"
=======
    "print(iris.DESCR)\n"
>>>>>>> upstream/master
   ]
  },
  {
   "cell_type": "code",
   "execution_count": 2,
   "metadata": {
    "collapsed": true
   },
   "outputs": [],
   "source": [
    "X = iris.data \n",
    "y = iris.target\n"
   ]
  },
  {
   "cell_type": "markdown",
   "metadata": {},
   "source": [
    "#### What is the size of our feature space?"
   ]
  },
  {
   "cell_type": "code",
   "execution_count": 7,
   "metadata": {
    "collapsed": false
   },
   "outputs": [
    {
     "data": {
      "text/plain": [
       "150"
      ]
     },
     "execution_count": 7,
     "metadata": {},
     "output_type": "execute_result"
    }
   ],
   "source": [
    "len(X)"
   ]
  },
  {
   "cell_type": "markdown",
   "metadata": {},
   "source": [
    "Answer: 150 observations"
   ]
  },
  {
   "cell_type": "markdown",
   "metadata": {},
   "source": [
    "#### How many categories does Iris data have? How many observations?"
   ]
  },
  {
   "cell_type": "code",
   "execution_count": 8,
   "metadata": {
    "collapsed": false
   },
   "outputs": [
    {
     "data": {
      "text/plain": [
       "(150L, 4L)"
      ]
     },
     "execution_count": 8,
     "metadata": {},
     "output_type": "execute_result"
    }
   ],
   "source": [
    "X.shape"
   ]
  },
  {
   "cell_type": "markdown",
   "metadata": {},
   "source": [
    "Answer: 4 categories and 150 observations"
   ]
  },
  {
   "cell_type": "markdown",
   "metadata": {},
   "source": [
    "#### Use two principal components and visualize your categories based on these two components. "
   ]
  },
  {
   "cell_type": "code",
   "execution_count": 11,
   "metadata": {
    "collapsed": false
   },
   "outputs": [
    {
     "data": {
      "text/plain": [
       "(150L, 2L)"
      ]
     },
     "execution_count": 11,
     "metadata": {},
     "output_type": "execute_result"
    }
   ],
   "source": [
    "from sklearn.decomposition import PCA\n",
    "clf = PCA(2)\n",
    "X_trans = clf.fit_transform(X)\n",
    "X_trans.shape"
   ]
  },
  {
   "cell_type": "code",
   "execution_count": 14,
   "metadata": {
    "collapsed": false
   },
   "outputs": [
    {
     "data": {
      "text/plain": [
       "<matplotlib.colorbar.Colorbar at 0x8f79c88>"
      ]
     },
     "execution_count": 14,
     "metadata": {},
     "output_type": "execute_result"
    },
    {
     "data": {
      "image/png": "iVBORw0KGgoAAAANSUhEUgAAAWYAAAEACAYAAACAi9xRAAAABHNCSVQICAgIfAhkiAAAAAlwSFlz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\nJWZjjIkz/x+1+xyogR2MqwAAAABJRU5ErkJggg==\n",
      "text/plain": [
       "<matplotlib.figure.Figure at 0x8b66470>"
      ]
     },
     "metadata": {},
     "output_type": "display_data"
    }
   ],
   "source": [
    "import matplotlib.pyplot as plt\n",
    "%matplotlib inline\n",
    "\n",
    "plt.scatter(X_trans[:, 0], X_trans[:, 1], c=y, alpha=0.9)\n",
    "plt.colorbar()"
   ]
  },
  {
   "cell_type": "markdown",
   "metadata": {},
   "source": [
    "#### Based on what you visualized, does it look like that we your categories can be seperated using a classification algorithm?"
   ]
  },
  {
   "cell_type": "markdown",
   "metadata": {},
   "source": [
    "Answer: Yes. There are three distinct categories. Eep! Exciting. :)"
   ]
  },
  {
   "cell_type": "markdown",
   "metadata": {},
   "source": [
    "#### Draw a graph for percentage of Variance explained. "
   ]
  },
  {
   "cell_type": "code",
   "execution_count": 17,
   "metadata": {
    "collapsed": false
   },
   "outputs": [
    {
     "data": {
      "image/png": "iVBORw0KGgoAAAANSUhEUgAAAY4AAAEPCAYAAABV6CMBAAAABHNCSVQICAgIfAhkiAAAAAlwSFlz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\nMzPLxYnDzMxyceIwM7NcnDjMzCyX/w9OknzcLbdEwAAAAABJRU5ErkJggg==\n",
      "text/plain": [
       "<matplotlib.figure.Figure at 0x94f9160>"
      ]
     },
     "metadata": {},
     "output_type": "display_data"
    }
   ],
   "source": [
    "AllPCAs = PCA().fit(X)\n",
    "\n",
    "plt.xlabel('number of components')\n",
    "plt.ylabel('total cumulative variance explained')\n",
    "x1 = range(1,5)\n",
    "plt.scatter(x1,np.cumsum(AllPCAs.explained_variance_ratio_))\n",
    "#plt.plot(np.cumsum(AllPCAs.explained_variance_ratio_))\n",
    "plt.show()"
   ]
  },
  {
   "cell_type": "markdown",
   "metadata": {},
   "source": [
    "#### Based on your graph how many Principal components can capture orme than 97% of variability in your data?"
   ]
  },
  {
   "cell_type": "markdown",
   "metadata": {},
   "source": [
    "Answer: 2 principle components capture more than 97% of the variability in our data. "
   ]
  },
  {
   "cell_type": "markdown",
   "metadata": {},
   "source": [
    "#### Use the number you mentioned above and transform your X variable by those many Principal Components. Once you do so, use a KNN algorithm and tune it to get the minimum misclassification error."
   ]
  },
  {
   "cell_type": "code",
   "execution_count": 23,
   "metadata": {
    "collapsed": false
   },
   "outputs": [
    {
     "name": "stdout",
     "output_type": "stream",
     "text": [
      "0.0333333333333\n",
      "1\n"
     ]
    }
   ],
   "source": [
    "from sklearn import neighbors, metrics\n",
    "from sklearn.cross_validation import cross_val_score\n",
    "\n",
    "misclass = []\n",
    "\n",
    "clf = PCA(2)\n",
    "X_trans = clf.fit_transform(X)\n",
    "knn = neighbors.KNeighborsClassifier(n_neighbors = 3, weights='uniform')\n",
    "knn.fit(X_trans,y)\n",
    "MisClassificationError = 1 - (cross_val_score(knn, X_trans, y, cv=10).mean())\n",
    "misclass.append(MisClassificationError)\n",
    "    \n",
    "print(min(misclass))\n",
    "\n",
    "print(np.argmin(misclass) + 1)"
   ]
  },
  {
   "cell_type": "markdown",
   "metadata": {},
   "source": []
  }
 ],
 "metadata": {
  "kernelspec": {
   "display_name": "Python 2",
   "language": "python",
   "name": "python2"
  },
  "language_info": {
   "codemirror_mode": {
    "name": "ipython",
    "version": 2
   },
   "file_extension": ".py",
   "mimetype": "text/x-python",
   "name": "python",
   "nbconvert_exporter": "python",
   "pygments_lexer": "ipython2",
   "version": "2.7.11"
  }
 },
 "nbformat": 4,
 "nbformat_minor": 0
}
